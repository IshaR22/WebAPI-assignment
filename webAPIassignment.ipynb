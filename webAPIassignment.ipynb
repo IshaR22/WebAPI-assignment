{
 "cells": [
  {
   "cell_type": "code",
   "execution_count": null,
   "id": "1b61329d-2829-4554-b11f-8a6ff3cb2fd9",
   "metadata": {},
   "outputs": [],
   "source": [
    "Q1. What is an API? Give an example, where an API is used in real life."
   ]
  },
  {
   "cell_type": "code",
   "execution_count": null,
   "id": "7df18ee9-b2b6-4032-9d65-d65081ac580c",
   "metadata": {},
   "outputs": [],
   "source": [
    "Application Programming Interface, is a set of rules, protocols, and tools that allows different software applications\n",
    "to communicate with each other. It defines the methods and data formats that applications can use to request \n",
    "and exchange information.\n",
    "Example Twitter provides an API that allows developers to access its platform functionalities, such as retrieving tweets,\n",
    "posting, searching for tweets, and accessing user information. Developers can use this API to integrate Twitter features\n",
    "into their own applications or websites, creating a seamless user experience across platforms"
   ]
  },
  {
   "cell_type": "code",
   "execution_count": null,
   "id": "b9aea283-7128-402c-95b7-9f1f993b6d3f",
   "metadata": {},
   "outputs": [],
   "source": [
    "Q2. Give advantages and disadvantages of using API."
   ]
  },
  {
   "cell_type": "code",
   "execution_count": null,
   "id": "9b3ac134-c878-4db7-8420-cdfa3196d3a8",
   "metadata": {},
   "outputs": [],
   "source": [
    "Advantages:\n",
    "\n",
    "Inter-operability: APIs enable different software systems to communicate and work together, regardless of their underlying\n",
    "technologies or programming languages. This inter-operability allows for seamless integration between systems, promoting\n",
    "collaboration and data sharing.\n",
    "Efficiency: By providing pre-built functionalities and services, APIs allow developers to save time and effort. \n",
    "They can leverage existing APIs to quickly add features and capabilities to their applications, accelerating development\n",
    "cycles.\n",
    "Scalability: APIs can handle a large volume of requests from multiple clients simultaneously, making them scalable to\n",
    "accommodate growing user bases and increasing data loads. This scalability is crucial for applications experiencing \n",
    "rapid growth.\n",
    "Innovation: APIs empower developers to build upon existing platforms and services, fostering innovation and creativity.\n",
    "By exposing functionalities to external developers, companies can tap into a broader talent pool and encourage the \n",
    "development of new applications and solutions.\n",
    "Flexibility: APIs provide flexibility in how data and functionalities are accessed and utilized. Developers can tailor \n",
    "API requests to their specific needs, customizing interactions based on parameters such as data format, authentication\n",
    "method, and endpoint configuration.\n",
    "\n",
    "\n",
    "Disadvantages:\n",
    "\n",
    "Security Risks: Exposing APIs to external developers can pose security risks if not properly secured. APIs may be \n",
    "vulnerable to attacks .\n",
    "Dependency: Applications that rely heavily on third-party APIs become dependent on the availability and reliability\n",
    "of those APIs. Any changes or disruptions to the API, such as version upgrades, downtime, or service discontinuation, \n",
    "can impact the functionality and performance of dependent applications.\n",
    "Complexity: Integrating multiple APIs or working with complex API ecosystems can introduce complexity into software\n",
    "development projects. Developers may need to manage different API versions, handle inconsistencies in data formats,\n",
    "and navigate documentation from multiple providers, increasing the cognitive load and development overhead.\n",
    "Costs: While many APIs offer free , using certain APIs or exceeding usage limits may incur costs. Developers need to \n",
    "carefully monitor usage metrics, anticipate potential charges, and budget accordingly to avoid unexpected expenses."
   ]
  },
  {
   "cell_type": "code",
   "execution_count": null,
   "id": "c4002134-aebb-4e44-b075-250484d1ede3",
   "metadata": {},
   "outputs": [],
   "source": [
    "Q3. What is a Web API? Differentiate between API and Web API."
   ]
  },
  {
   "cell_type": "code",
   "execution_count": null,
   "id": "a5e3deae-04dc-4333-a533-3437ad71519f",
   "metadata": {},
   "outputs": [],
   "source": [
    "Web Application Programming Interface, is a type of API specifically designed to be accessed over the web using HTTP\n",
    "protocols. It enables interaction between different software systems, applications, or services via standard web \n",
    "protocols, such as HTTP and HTTPS. Web APIs are commonly used to facilitate communication between client-side \n",
    "applications, such as web browsers or mobile apps.\n",
    "\n",
    "API:\n",
    "Application Programming Interface, is a broader term that encompasses any set of rules and protocols that allow \n",
    "different software components to communicate and interact with each other. APIs can exist within a single application,\n",
    "between different applications on the same device, or across networked systems.\n",
    "\n",
    "APIs can use various communication protocols, including but not limited to HTTP, TCP/IP, UDP, and SOAP.\n",
    "\n",
    "APIs can be accessed through various methods,such as function calls,command-line tools, or network endpoints.\n",
    "\n",
    "Web API:\n",
    "A Web API specifically refers to APIs that are accessible over the web via HTTP protocols. They are designed for \n",
    "interaction between web-based applications, such as websites, web services, or cloud platforms, and can be accessed\n",
    "remotely over the internet.\n",
    "\n",
    "Web APIs exclusively use HTTP or HTTPS protocols for communication, making them suitable for web-based environments \n",
    "and allowing for easy integration with web technologies\n",
    "\n",
    "Web APIs are typically accessed through HTTP methods, such as GET, POST, PUT, DELETE, etc, by making requests to \n",
    "specific URLs exposed by the API."
   ]
  },
  {
   "cell_type": "code",
   "execution_count": null,
   "id": "774f5a17-6873-411e-bd40-0537e58735a3",
   "metadata": {},
   "outputs": [],
   "source": [
    "Q4. Explain REST and SOAP Architecture. Mention shortcomings of SOAP."
   ]
  },
  {
   "cell_type": "code",
   "execution_count": null,
   "id": "51ff49fc-80d9-40d9-b9ab-dfe4912cbe1a",
   "metadata": {},
   "outputs": [],
   "source": [
    "REST is an architectural style that emphasizes simplicity, scalability, and statelessness in \n",
    "web service design.\n",
    "It uses standard HTTP methods such as GET, POST, PUT, DELETE, etc., to perform CRUD (Create, Read, Update, Delete) \n",
    "operations on resources.\n",
    "RESTful APIs are resource-based, meaning each resource (e.g., users, products) is identified by a unique URI, and\n",
    "interactions with these resources are performed using HTTP methods.\n",
    "REST APIs typically use lightweight data formats such as JSON or XML  for data exchange.\n",
    "Key principles of REST include statelessness (each request from a client must contain all necessary information to\n",
    "be processed), uniform interface (resources are accessed and manipulated using standard methods), \n",
    "and client-server architecture (separation of concerns between client and server).\n",
    "less secure.\n",
    "\n",
    "SOAP (Simple Object Access Protocol):\n",
    "SOAP is a protocol for exchanging structured information in the implementation of web services.\n",
    "It uses XML as its message format and relies on other protocols such as HTTP, SMTP , or TCP/IP\n",
    "for message transmission.\n",
    "SOAP defines a strict messaging format and communication protocol, including standards for \n",
    "message structure, header elements, and error handling.\n",
    "SOAP APIs typically use a contract-based approach, where services are described using WSDL\n",
    ",and interactions are based on predefined operations and message formats.\n",
    "SOAP supports advanced features such as security (WS-Security), reliability \n",
    "(WS-ReliableMessaging), and transactions, making it suitable for enterprise-level \n",
    "applications and scenarios requiring strict message integrity and reliability.\n",
    "\n",
    "shortcoming of SOAP\n",
    "Size: SOAP messages are often large and contain a lot of redundant information, which can make them slow to process\n",
    "and transmit.\n",
    "Complexity: SOAP can be complex due to its extensible and strongly typed nature.\n",
    "XML format: SOAP only uses XML format data in web services, and does not\n",
    "support JSON or other lightweight formats.\n",
    "Speed: SOAP is slower than other middleware standards because it uses XML format.\n",
    "Transport protocol: SOAP is tightly coupled to the underlying transport protocol, \n",
    "usually HTTP or HTTPS, which can make it difficult to use with other transport protocols.\n",
    "Security: The SOAP specification does not include any security features."
   ]
  },
  {
   "cell_type": "code",
   "execution_count": null,
   "id": "853ce947-637f-4fb0-91a3-e3d08465be45",
   "metadata": {},
   "outputs": [],
   "source": [
    "Q5. Differentiate between REST and SOAP."
   ]
  },
  {
   "cell_type": "code",
   "execution_count": null,
   "id": "748a3f46-002a-45b7-b93c-9498265390d0",
   "metadata": {},
   "outputs": [],
   "source": [
    "REST\n",
    "(Representational State Transfer)\n",
    "REST is an architectural style that emphasizes statelessness, scalability, and simplicity.\n",
    "It uses standard HTTP methods (GET, POST, PUT, DELETE) to perform CRUD operations on resources, which are identified\n",
    "by unique URIs. \n",
    "RESTful APIs typically use lightweight data formats such as JSON or XML for data exchange.\n",
    "REST APIs use standard HTTP methods (GET, POST, PUT, DELETE) for communication, making them easy to integrate\n",
    "with existing web infrastructure and accessible from any platform that supports HTTP\n",
    "\n",
    "SOAP\n",
    "(Simple Object Access Protocol)\n",
    "SOAP is a protocol for exchanging structured information in the implementation of web services.\n",
    "It uses XML as its message format and relies on other protocols such as HTTP, SMTP, or TCP/IP for message transmission.\n",
    "SOAP defines a strict messaging format and communication protocol, including standards for message structure, header\n",
    "elements, and error handling.\n",
    "OAP messages are XML-based and typically contain structured data along with metadata elements such as headers and \n",
    "envelopes. SOAP messages can be more verbose and complex compared to JSON, leading to larger message sizes and \n",
    "increased processing overhead.\n",
    "AP relies on other protocols such as HTTP, SMTP, or TCP/IP for message transmission. While SOAP messages are often transmitted over HTTP, SOAP can also support other protocols, providing flexibility but potentially complicating integration with existing web infrastructure."
   ]
  }
 ],
 "metadata": {
  "kernelspec": {
   "display_name": "Python 3 (ipykernel)",
   "language": "python",
   "name": "python3"
  },
  "language_info": {
   "codemirror_mode": {
    "name": "ipython",
    "version": 3
   },
   "file_extension": ".py",
   "mimetype": "text/x-python",
   "name": "python",
   "nbconvert_exporter": "python",
   "pygments_lexer": "ipython3",
   "version": "3.10.8"
  }
 },
 "nbformat": 4,
 "nbformat_minor": 5
}
